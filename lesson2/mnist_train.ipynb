{
 "cells": [
  {
   "cell_type": "code",
   "execution_count": 1,
   "id": "c479ac90-7b9b-419f-bb00-86fa312f4bfb",
   "metadata": {},
   "outputs": [],
   "source": [
    "import keras\n",
    "import numpy as np\n",
    "import os"
   ]
  },
  {
   "cell_type": "code",
   "execution_count": 2,
   "id": "8e88b1ce-d77e-4a97-b2ee-5a1afdef5e37",
   "metadata": {},
   "outputs": [],
   "source": [
    "def use_cpu():\n",
    "    os.environ[\"CUDA_DEVICE_ORDER\"] = \"PCI_BUS_ID\"\n",
    "    os.environ[\"CUDA_VISIBLE_DEVICES\"] = \"\""
   ]
  },
  {
   "cell_type": "code",
   "execution_count": 3,
   "id": "18072b96-653b-4303-aed7-e6789c7c7b8f",
   "metadata": {},
   "outputs": [],
   "source": [
    "# download dataset\n",
    "\n",
    "data = np.load(\"mnist.npz\")\n",
    "train_x = data[\"x_train\"].astype(np.float64)\n",
    "train_y = data[\"y_train\"]\n",
    "\n",
    "test_x  = data[\"x_test\"].astype(np.float64)\n",
    "test_y = data[\"y_test\"]"
   ]
  },
  {
   "cell_type": "code",
   "execution_count": 4,
   "id": "b58c6c55-6644-4b36-91d1-18a5470ab4b8",
   "metadata": {},
   "outputs": [
    {
     "data": {
      "text/plain": [
       "(array([[  0.,   0.,   0.,   0.,   0.,   0.,   0.,   0.,   0.,   0.,   0.,\n",
       "           0.,   0.,   0.,   0.,   0.,   0.,   0.,   0.,   0.,   0.,   0.,\n",
       "           0.,   0.,   0.,   0.,   0.,   0.],\n",
       "        [  0.,   0.,   0.,   0.,   0.,   0.,   0.,   0.,   0.,   0.,   0.,\n",
       "           0.,   0.,   0.,   0.,   0.,   0.,   0.,   0.,   0.,   0.,   0.,\n",
       "           0.,   0.,   0.,   0.,   0.,   0.],\n",
       "        [  0.,   0.,   0.,   0.,   0.,   0.,   0.,   0.,   0.,   0.,   0.,\n",
       "           0.,   0.,   0.,   0.,   0.,   0.,   0.,   0.,   0.,   0.,   0.,\n",
       "           0.,   0.,   0.,   0.,   0.,   0.],\n",
       "        [  0.,   0.,   0.,   0.,   0.,   0.,   0.,   0.,   0.,   0.,   0.,\n",
       "           0.,   0.,   0.,   0.,   0.,   0.,   0.,   0.,   0.,   0.,   0.,\n",
       "           0.,   0.,   0.,   0.,   0.,   0.],\n",
       "        [  0.,   0.,   0.,   0.,   0.,   0.,   0.,   0.,   0.,   0.,   0.,\n",
       "           0.,   0.,   0.,   0.,   0.,   0.,   0.,   0.,   0.,   0.,   0.,\n",
       "           0.,   0.,   0.,   0.,   0.,   0.],\n",
       "        [  0.,   0.,   0.,   0.,   0.,   0.,   0.,   0.,   0.,   0.,   0.,\n",
       "           0.,   3.,  18.,  18.,  18., 126., 136., 175.,  26., 166., 255.,\n",
       "         247., 127.,   0.,   0.,   0.,   0.],\n",
       "        [  0.,   0.,   0.,   0.,   0.,   0.,   0.,   0.,  30.,  36.,  94.,\n",
       "         154., 170., 253., 253., 253., 253., 253., 225., 172., 253., 242.,\n",
       "         195.,  64.,   0.,   0.,   0.,   0.],\n",
       "        [  0.,   0.,   0.,   0.,   0.,   0.,   0.,  49., 238., 253., 253.,\n",
       "         253., 253., 253., 253., 253., 253., 251.,  93.,  82.,  82.,  56.,\n",
       "          39.,   0.,   0.,   0.,   0.,   0.],\n",
       "        [  0.,   0.,   0.,   0.,   0.,   0.,   0.,  18., 219., 253., 253.,\n",
       "         253., 253., 253., 198., 182., 247., 241.,   0.,   0.,   0.,   0.,\n",
       "           0.,   0.,   0.,   0.,   0.,   0.],\n",
       "        [  0.,   0.,   0.,   0.,   0.,   0.,   0.,   0.,  80., 156., 107.,\n",
       "         253., 253., 205.,  11.,   0.,  43., 154.,   0.,   0.,   0.,   0.,\n",
       "           0.,   0.,   0.,   0.,   0.,   0.],\n",
       "        [  0.,   0.,   0.,   0.,   0.,   0.,   0.,   0.,   0.,  14.,   1.,\n",
       "         154., 253.,  90.,   0.,   0.,   0.,   0.,   0.,   0.,   0.,   0.,\n",
       "           0.,   0.,   0.,   0.,   0.,   0.],\n",
       "        [  0.,   0.,   0.,   0.,   0.,   0.,   0.,   0.,   0.,   0.,   0.,\n",
       "         139., 253., 190.,   2.,   0.,   0.,   0.,   0.,   0.,   0.,   0.,\n",
       "           0.,   0.,   0.,   0.,   0.,   0.],\n",
       "        [  0.,   0.,   0.,   0.,   0.,   0.,   0.,   0.,   0.,   0.,   0.,\n",
       "          11., 190., 253.,  70.,   0.,   0.,   0.,   0.,   0.,   0.,   0.,\n",
       "           0.,   0.,   0.,   0.,   0.,   0.],\n",
       "        [  0.,   0.,   0.,   0.,   0.,   0.,   0.,   0.,   0.,   0.,   0.,\n",
       "           0.,  35., 241., 225., 160., 108.,   1.,   0.,   0.,   0.,   0.,\n",
       "           0.,   0.,   0.,   0.,   0.,   0.],\n",
       "        [  0.,   0.,   0.,   0.,   0.,   0.,   0.,   0.,   0.,   0.,   0.,\n",
       "           0.,   0.,  81., 240., 253., 253., 119.,  25.,   0.,   0.,   0.,\n",
       "           0.,   0.,   0.,   0.,   0.,   0.],\n",
       "        [  0.,   0.,   0.,   0.,   0.,   0.,   0.,   0.,   0.,   0.,   0.,\n",
       "           0.,   0.,   0.,  45., 186., 253., 253., 150.,  27.,   0.,   0.,\n",
       "           0.,   0.,   0.,   0.,   0.,   0.],\n",
       "        [  0.,   0.,   0.,   0.,   0.,   0.,   0.,   0.,   0.,   0.,   0.,\n",
       "           0.,   0.,   0.,   0.,  16.,  93., 252., 253., 187.,   0.,   0.,\n",
       "           0.,   0.,   0.,   0.,   0.,   0.],\n",
       "        [  0.,   0.,   0.,   0.,   0.,   0.,   0.,   0.,   0.,   0.,   0.,\n",
       "           0.,   0.,   0.,   0.,   0.,   0., 249., 253., 249.,  64.,   0.,\n",
       "           0.,   0.,   0.,   0.,   0.,   0.],\n",
       "        [  0.,   0.,   0.,   0.,   0.,   0.,   0.,   0.,   0.,   0.,   0.,\n",
       "           0.,   0.,   0.,  46., 130., 183., 253., 253., 207.,   2.,   0.,\n",
       "           0.,   0.,   0.,   0.,   0.,   0.],\n",
       "        [  0.,   0.,   0.,   0.,   0.,   0.,   0.,   0.,   0.,   0.,   0.,\n",
       "           0.,  39., 148., 229., 253., 253., 253., 250., 182.,   0.,   0.,\n",
       "           0.,   0.,   0.,   0.,   0.,   0.],\n",
       "        [  0.,   0.,   0.,   0.,   0.,   0.,   0.,   0.,   0.,   0.,  24.,\n",
       "         114., 221., 253., 253., 253., 253., 201.,  78.,   0.,   0.,   0.,\n",
       "           0.,   0.,   0.,   0.,   0.,   0.],\n",
       "        [  0.,   0.,   0.,   0.,   0.,   0.,   0.,   0.,  23.,  66., 213.,\n",
       "         253., 253., 253., 253., 198.,  81.,   2.,   0.,   0.,   0.,   0.,\n",
       "           0.,   0.,   0.,   0.,   0.,   0.],\n",
       "        [  0.,   0.,   0.,   0.,   0.,   0.,  18., 171., 219., 253., 253.,\n",
       "         253., 253., 195.,  80.,   9.,   0.,   0.,   0.,   0.,   0.,   0.,\n",
       "           0.,   0.,   0.,   0.,   0.,   0.],\n",
       "        [  0.,   0.,   0.,   0.,  55., 172., 226., 253., 253., 253., 253.,\n",
       "         244., 133.,  11.,   0.,   0.,   0.,   0.,   0.,   0.,   0.,   0.,\n",
       "           0.,   0.,   0.,   0.,   0.,   0.],\n",
       "        [  0.,   0.,   0.,   0., 136., 253., 253., 253., 212., 135., 132.,\n",
       "          16.,   0.,   0.,   0.,   0.,   0.,   0.,   0.,   0.,   0.,   0.,\n",
       "           0.,   0.,   0.,   0.,   0.,   0.],\n",
       "        [  0.,   0.,   0.,   0.,   0.,   0.,   0.,   0.,   0.,   0.,   0.,\n",
       "           0.,   0.,   0.,   0.,   0.,   0.,   0.,   0.,   0.,   0.,   0.,\n",
       "           0.,   0.,   0.,   0.,   0.,   0.],\n",
       "        [  0.,   0.,   0.,   0.,   0.,   0.,   0.,   0.,   0.,   0.,   0.,\n",
       "           0.,   0.,   0.,   0.,   0.,   0.,   0.,   0.,   0.,   0.,   0.,\n",
       "           0.,   0.,   0.,   0.,   0.,   0.],\n",
       "        [  0.,   0.,   0.,   0.,   0.,   0.,   0.,   0.,   0.,   0.,   0.,\n",
       "           0.,   0.,   0.,   0.,   0.,   0.,   0.,   0.,   0.,   0.,   0.,\n",
       "           0.,   0.,   0.,   0.,   0.,   0.]]),\n",
       " 5)"
      ]
     },
     "execution_count": 4,
     "metadata": {},
     "output_type": "execute_result"
    }
   ],
   "source": [
    "train_x[0], train_y[0]"
   ]
  },
  {
   "cell_type": "code",
   "execution_count": 5,
   "id": "ba37609f-fef7-4122-84eb-d85c86f320eb",
   "metadata": {},
   "outputs": [],
   "source": [
    "# normalize input data\n",
    "train_x /= 255\n",
    "test_x /= 255"
   ]
  },
  {
   "cell_type": "code",
   "execution_count": 6,
   "id": "0d076c35-e28a-4a0d-af2b-1db89bb3a372",
   "metadata": {},
   "outputs": [],
   "source": [
    "use_cpu()"
   ]
  },
  {
   "cell_type": "code",
   "execution_count": 33,
   "id": "cd22f0fe-cf09-493e-a35c-3c95ba7e18a0",
   "metadata": {},
   "outputs": [],
   "source": [
    "# create model\n",
    "\n",
    "model = keras.models.Sequential([\n",
    "    keras.layers.Input(shape=(28, 28)),\n",
    "    keras.layers.Flatten(),\n",
    "    keras.layers.Dense(100, activation=\"relu\"),\n",
    "    keras.layers.Dense(32, activation=\"relu\"),\n",
    "    keras.layers.Dense(10, activation=\"softmax\")\n",
    "])"
   ]
  },
  {
   "cell_type": "code",
   "execution_count": 35,
   "id": "85eda7ef-0d49-4af0-80b5-e126e4159261",
   "metadata": {},
   "outputs": [],
   "source": [
    "# test raw model\n",
    "result = model.predict(test_x[:10])"
   ]
  },
  {
   "cell_type": "code",
   "execution_count": 36,
   "id": "6f339e78-e8ba-4c8e-a463-d071976865ae",
   "metadata": {},
   "outputs": [
    {
     "data": {
      "text/plain": [
       "(array([6, 6, 4, 6, 4, 4, 9, 6, 6, 2]),\n",
       " array([7, 2, 1, 0, 4, 1, 4, 9, 5, 9], dtype=uint8))"
      ]
     },
     "execution_count": 36,
     "metadata": {},
     "output_type": "execute_result"
    }
   ],
   "source": [
    "np.argmax(result, axis=-1), test_y[:10]"
   ]
  },
  {
   "cell_type": "code",
   "execution_count": 37,
   "id": "5e0a5124-298d-4039-9caf-67b10b8d269c",
   "metadata": {},
   "outputs": [],
   "source": [
    "# train model"
   ]
  },
  {
   "cell_type": "code",
   "execution_count": 38,
   "id": "81545107-5fd4-499f-8494-f75156fd8ab1",
   "metadata": {},
   "outputs": [],
   "source": [
    "# prepare dataset"
   ]
  },
  {
   "cell_type": "code",
   "execution_count": 39,
   "id": "53bb16ed-c106-46b9-bf8c-a7106314564a",
   "metadata": {},
   "outputs": [],
   "source": [
    "import tensorflow as tf"
   ]
  },
  {
   "cell_type": "code",
   "execution_count": 40,
   "id": "302e1097-84eb-4281-bc1b-c4858cc4b364",
   "metadata": {},
   "outputs": [],
   "source": [
    "batch_size = 10\n",
    "epochs = 10\n",
    "learning_rate = 0.01"
   ]
  },
  {
   "cell_type": "code",
   "execution_count": 50,
   "id": "5ac9652f-b0c7-41a3-b805-7638e1da7dee",
   "metadata": {},
   "outputs": [],
   "source": [
    "dataset = tf.data.Dataset.from_tensor_slices((train_x, train_y)).batch(batch_size)"
   ]
  },
  {
   "cell_type": "code",
   "execution_count": 51,
   "id": "abd2b804-65e0-48a6-912a-a2fe114cf3a2",
   "metadata": {},
   "outputs": [
    {
     "data": {
      "text/plain": [
       "<ShuffleDataset shapes: ((None, 28, 28), (None,)), types: (tf.float64, tf.uint8)>"
      ]
     },
     "execution_count": 51,
     "metadata": {},
     "output_type": "execute_result"
    }
   ],
   "source": [
    "dataset.shuffle(buffer_size=100)"
   ]
  },
  {
   "cell_type": "code",
   "execution_count": 52,
   "id": "f89f94e6-79e8-4d27-9fbd-7d916495810e",
   "metadata": {},
   "outputs": [],
   "source": [
    "# compile model\n",
    "optimizer = keras.optimizers.adam_v2.Adam(learning_rate)\n",
    "loss = \"sparse_categorical_crossentropy\"\n",
    "metrics = [\"accuracy\"]\n",
    "\n",
    "model.compile(loss=loss, optimizer = optimizer, metrics=metrics)"
   ]
  },
  {
   "cell_type": "code",
   "execution_count": 53,
   "id": "6544406f-6cad-4cc3-a610-e570ebd846b5",
   "metadata": {},
   "outputs": [
    {
     "name": "stdout",
     "output_type": "stream",
     "text": [
      "Epoch 1/10\n",
      "6000/6000 [==============================] - 6s 945us/step - loss: 0.3284 - accuracy: 0.9100\n",
      "Epoch 2/10\n",
      "6000/6000 [==============================] - 6s 948us/step - loss: 0.2490 - accuracy: 0.9377\n",
      "Epoch 3/10\n",
      "6000/6000 [==============================] - 6s 944us/step - loss: 0.2318 - accuracy: 0.9452\n",
      "Epoch 4/10\n",
      "6000/6000 [==============================] - 6s 941us/step - loss: 0.2036 - accuracy: 0.9533\n",
      "Epoch 5/10\n",
      "6000/6000 [==============================] - 6s 943us/step - loss: 0.2016 - accuracy: 0.9561\n",
      "Epoch 6/10\n",
      "6000/6000 [==============================] - 6s 945us/step - loss: 0.1907 - accuracy: 0.9573\n",
      "Epoch 7/10\n",
      "6000/6000 [==============================] - 6s 948us/step - loss: 0.1947 - accuracy: 0.9575\n",
      "Epoch 8/10\n",
      "6000/6000 [==============================] - 6s 951us/step - loss: 0.1931 - accuracy: 0.9590\n",
      "Epoch 9/10\n",
      "6000/6000 [==============================] - 6s 947us/step - loss: 0.1754 - accuracy: 0.9623\n",
      "Epoch 10/10\n",
      "6000/6000 [==============================] - 6s 952us/step - loss: 0.1805 - accuracy: 0.9613\n"
     ]
    }
   ],
   "source": [
    "history = model.fit(dataset,batch_size=batch_size, epochs=epochs)"
   ]
  },
  {
   "cell_type": "code",
   "execution_count": 63,
   "id": "6f4b3c2e-a535-4455-9814-13714d365406",
   "metadata": {},
   "outputs": [],
   "source": [
    "import matplotlib.pyplot as plt\n",
    "%matplotlib inline"
   ]
  },
  {
   "cell_type": "code",
   "execution_count": 69,
   "id": "98841d15-e301-4a90-b431-fff49e5cae36",
   "metadata": {},
   "outputs": [
    {
     "data": {
      "text/plain": [
       "[<matplotlib.lines.Line2D at 0x7ff1340fbfa0>]"
      ]
     },
     "execution_count": 69,
     "metadata": {},
     "output_type": "execute_result"
    },
    {
     "data": {
      "image/png": "[encoded data removed]",
      "text/plain": [
       "<Figure size 640x480 with 1 Axes>"
      ]
     },
     "metadata": {},
     "output_type": "display_data"
    }
   ],
   "source": [
    "loss = history.history[\"loss\"]\n",
    "accuracy = history.history[\"accuracy\"]\n",
    "plt.title(\"Loss\")\n",
    "plt.plot(loss)"
   ]
  },
  {
   "cell_type": "code",
   "execution_count": 70,
   "id": "0630f686-bb2b-44fb-a8e4-fc611ea16997",
   "metadata": {},
   "outputs": [
    {
     "data": {
      "text/plain": [
       "[<matplotlib.lines.Line2D at 0x7ff1340ab460>]"
      ]
     },
     "execution_count": 70,
     "metadata": {},
     "output_type": "execute_result"
    },
    {
     "data": {
      "image/png": "[encoded data removed]",
      "text/plain": [
       "<Figure size 640x480 with 1 Axes>"
      ]
     },
     "metadata": {},
     "output_type": "display_data"
    }
   ],
   "source": [
    "plt.title(\"Accuracy\")\n",
    "plt.plot(accuracy)"
   ]
  },
  {
   "cell_type": "code",
   "execution_count": 71,
   "id": "6e65d6d1-0c42-4a99-a6fd-9d2aff8d80d2",
   "metadata": {},
   "outputs": [],
   "source": [
    "# test current model"
   ]
  },
  {
   "cell_type": "code",
   "execution_count": 72,
   "id": "63be20ba-f3a2-4947-9b3b-01e6d80ee917",
   "metadata": {},
   "outputs": [],
   "source": [
    "result = model.predict(test_x[:10])"
   ]
  },
  {
   "cell_type": "code",
   "execution_count": 73,
   "id": "6bf05d29-026b-4a4c-ae9b-650b01e1d04f",
   "metadata": {},
   "outputs": [
    {
     "data": {
      "text/plain": [
       "(array([7, 2, 1, 0, 4, 1, 4, 9, 5, 9]),\n",
       " array([7, 2, 1, 0, 4, 1, 4, 9, 5, 9], dtype=uint8))"
      ]
     },
     "execution_count": 73,
     "metadata": {},
     "output_type": "execute_result"
    }
   ],
   "source": [
    "np.argmax(result, axis=-1), test_y[:10]"
   ]
  },
  {
   "cell_type": "code",
   "execution_count": 74,
   "id": "e84bc068-5c71-4abe-b413-e1b29c2545e8",
   "metadata": {},
   "outputs": [],
   "source": [
    "score = model.evaluate(test_x, test_y, verbose=0)"
   ]
  },
  {
   "cell_type": "code",
   "execution_count": 75,
   "id": "c08ebf9b-37e7-4d67-9f70-db4bfc131eb0",
   "metadata": {},
   "outputs": [
    {
     "name": "stdout",
     "output_type": "stream",
     "text": [
      "Test loss:  0.4365111291408539\n",
      "Test accuracy:  0.9484999775886536\n"
     ]
    }
   ],
   "source": [
    "print(\"Test loss: \", score[0])\n",
    "print(\"Test accuracy: \", score[1])"
   ]
  },
  {
   "cell_type": "code",
   "execution_count": 88,
   "id": "094d900c-35ed-42e0-b871-ba617a7ae0f1",
   "metadata": {},
   "outputs": [],
   "source": [
    "# conv_model\n",
    "\n",
    "conv_model = keras.models.Sequential([\n",
    "    keras.layers.Input(shape=(28, 28, 1)),\n",
    "    keras.layers.Conv2D(filters=64, kernel_size=(3, 3), padding=\"same\", strides=(1, 1), activation = \"relu\"),\n",
    "    keras.layers.Conv2D(filters=64, kernel_size=(3, 3), padding=\"same\", strides=(1, 1), activation = \"relu\"),\n",
    "    keras.layers.MaxPool2D(pool_size=(2, 2)),\n",
    "    keras.layers.Conv2D(filters=128, kernel_size=(3, 3), padding=\"same\", strides=(1, 1), activation = \"relu\"),\n",
    "    keras.layers.Conv2D(filters=128, kernel_size=(3, 3), padding=\"same\", strides=(1, 1), activation = \"relu\"),\n",
    "    keras.layers.MaxPool2D(pool_size=(2, 2)),\n",
    "    keras.layers.Flatten(),\n",
    "    keras.layers.Dense(1024, activation=\"relu\"),\n",
    "    keras.layers.Dense(512, activation=\"relu\"),\n",
    "    keras.layers.Dense(64, activation=\"relu\"),\n",
    "    keras.layers.Dense(10, activation=\"softmax\")\n",
    "])"
   ]
  },
  {
   "cell_type": "code",
   "execution_count": 89,
   "id": "4becc60e-d9d4-4b00-be61-98d1e68f3433",
   "metadata": {},
   "outputs": [],
   "source": [
    "batch_size = 10\n",
    "epochs = 10\n",
    "learning_rate = 0.001"
   ]
  },
  {
   "cell_type": "code",
   "execution_count": 90,
   "id": "9fbcee4e-2f61-4cfb-a3fc-6c329823fd2c",
   "metadata": {},
   "outputs": [],
   "source": [
    "train_x = np.expand_dims(train_x, axis=-1)\n",
    "test_x = np.expand_dims(test_x, axis=-1)\n",
    "dataset = tf.data.Dataset.from_tensor_slices((train_x, train_y)).batch(batch_size)"
   ]
  },
  {
   "cell_type": "code",
   "execution_count": 91,
   "id": "27d15dbb-67d5-43b7-b10e-cf8c9382109a",
   "metadata": {},
   "outputs": [
    {
     "data": {
      "text/plain": [
       "<ShuffleDataset shapes: ((None, 28, 28, 1, 1), (None,)), types: (tf.float64, tf.uint8)>"
      ]
     },
     "execution_count": 91,
     "metadata": {},
     "output_type": "execute_result"
    }
   ],
   "source": [
    "dataset.shuffle(buffer_size=100)"
   ]
  },
  {
   "cell_type": "code",
   "execution_count": 92,
   "id": "bf37e008-7e1b-4619-9ec8-4d2428f9c4a4",
   "metadata": {},
   "outputs": [],
   "source": [
    "# compile model\n",
    "optimizer = keras.optimizers.adam_v2.Adam(learning_rate)\n",
    "loss = \"sparse_categorical_crossentropy\"\n",
    "metrics = [\"accuracy\"]\n",
    "\n",
    "conv_model.compile(loss=loss, optimizer = optimizer, metrics=metrics)"
   ]
  },
  {
   "cell_type": "code",
   "execution_count": 93,
   "id": "73d94a8e-2a66-4625-b76c-0bad12433afb",
   "metadata": {},
   "outputs": [
    {
     "name": "stdout",
     "output_type": "stream",
     "text": [
      "Epoch 1/10\n",
      "6000/6000 [==============================] - 191s 32ms/step - loss: 0.1258 - accuracy: 0.9648\n",
      "Epoch 2/10\n",
      "6000/6000 [==============================] - 192s 32ms/step - loss: 0.0620 - accuracy: 0.9841\n",
      "Epoch 3/10\n",
      "6000/6000 [==============================] - 189s 32ms/step - loss: 0.0465 - accuracy: 0.9890\n",
      "Epoch 4/10\n",
      "6000/6000 [==============================] - 189s 31ms/step - loss: 0.0392 - accuracy: 0.9905\n",
      "Epoch 5/10\n",
      "6000/6000 [==============================] - 188s 31ms/step - loss: 0.0381 - accuracy: 0.9912\n",
      "Epoch 6/10\n",
      "6000/6000 [==============================] - 187s 31ms/step - loss: 0.0307 - accuracy: 0.9930\n",
      "Epoch 7/10\n",
      "6000/6000 [==============================] - 190s 32ms/step - loss: 0.0288 - accuracy: 0.9934\n",
      "Epoch 8/10\n",
      "6000/6000 [==============================] - 190s 32ms/step - loss: 0.0310 - accuracy: 0.9935\n",
      "Epoch 9/10\n",
      "6000/6000 [==============================] - 192s 32ms/step - loss: 0.0249 - accuracy: 0.9944\n",
      "Epoch 10/10\n",
      "6000/6000 [==============================] - 204s 34ms/step - loss: 0.0261 - accuracy: 0.9941\n"
     ]
    }
   ],
   "source": [
    "history = conv_model.fit(dataset,batch_size=batch_size, epochs=epochs)"
   ]
  },
  {
   "cell_type": "code",
   "execution_count": 94,
   "id": "370bb809-4ab9-4ce9-b08c-39ad61281191",
   "metadata": {},
   "outputs": [
    {
     "data": {
      "text/plain": [
       "[<matplotlib.lines.Line2D at 0x7ff114887160>]"
      ]
     },
     "execution_count": 94,
     "metadata": {},
     "output_type": "execute_result"
    },
    {
     "data": {
      "image/png": "[encoded data removed]",
      "text/plain": [
       "<Figure size 640x480 with 1 Axes>"
      ]
     },
     "metadata": {},
     "output_type": "display_data"
    }
   ],
   "source": [
    "loss = history.history[\"loss\"]\n",
    "accuracy = history.history[\"accuracy\"]\n",
    "plt.title(\"Loss\")\n",
    "plt.plot(loss)"
   ]
  },
  {
   "cell_type": "code",
   "execution_count": 95,
   "id": "e8635b92-21d5-42fb-9a87-6f5c189476a1",
   "metadata": {},
   "outputs": [
    {
     "data": {
      "text/plain": [
       "[<matplotlib.lines.Line2D at 0x7ff114853040>]"
      ]
     },
     "execution_count": 95,
     "metadata": {},
     "output_type": "execute_result"
    },
    {
     "data": {
      "image/png": "[encoded data removed]",
      "text/plain": [
       "<Figure size 640x480 with 1 Axes>"
      ]
     },
     "metadata": {},
     "output_type": "display_data"
    }
   ],
   "source": [
    "plt.title(\"Accuracy\")\n",
    "plt.plot(accuracy)"
   ]
  },
  {
   "cell_type": "code",
   "execution_count": 96,
   "id": "75b8fec8-5996-482d-90c8-8ad1f9a4fa91",
   "metadata": {},
   "outputs": [],
   "source": [
    "score = conv_model.evaluate(test_x, test_y, verbose=0)"
   ]
  },
  {
   "cell_type": "code",
   "execution_count": 97,
   "id": "0f335cd9-c928-4d27-a6a9-9ec51ce7271e",
   "metadata": {},
   "outputs": [
    {
     "name": "stdout",
     "output_type": "stream",
     "text": [
      "Test loss:  0.059924688190221786\n",
      "Test accuracy:  0.9890000224113464\n"
     ]
    }
   ],
   "source": [
    "print(\"Test loss: \", score[0])\n",
    "print(\"Test accuracy: \", score[1])"
   ]
  },
  {
   "cell_type": "code",
   "execution_count": null,
   "id": "6fc42e44-093d-4d6a-ad39-2c85fe63f1f1",
   "metadata": {},
   "outputs": [],
   "source": []
  }
 ],
 "metadata": {
  "kernelspec": {
   "display_name": "Python 3 (ipykernel)",
   "language": "python",
   "name": "python3"
  },
  "language_info": {
   "codemirror_mode": {
    "name": "ipython",
    "version": 3
   },
   "file_extension": ".py",
   "mimetype": "text/x-python",
   "name": "python",
   "nbconvert_exporter": "python",
   "pygments_lexer": "ipython3",
   "version": "3.8.10"
  }
 },
 "nbformat": 4,
 "nbformat_minor": 5
}
